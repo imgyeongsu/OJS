{
 "cells": [
  {
   "cell_type": "code",
   "execution_count": null,
   "id": "e3d8a6f1",
   "metadata": {},
   "outputs": [
    {
     "ename": "AttributeError",
     "evalue": "'list' object has no attribute 'shape'",
     "output_type": "error",
     "traceback": [
      "\u001b[31m---------------------------------------------------------------------------\u001b[39m",
      "\u001b[31mAttributeError\u001b[39m                            Traceback (most recent call last)",
      "\u001b[36mCell\u001b[39m\u001b[36m \u001b[39m\u001b[32mIn[18]\u001b[39m\u001b[32m, line 2\u001b[39m\n\u001b[32m      1\u001b[39m rows = [[\u001b[32m0\u001b[39m]*\u001b[32m50\u001b[39m \u001b[38;5;28;01mfor\u001b[39;00m _ \u001b[38;5;129;01min\u001b[39;00m \u001b[38;5;28mrange\u001b[39m(\u001b[32m50\u001b[39m)]\n\u001b[32m----> \u001b[39m\u001b[32m2\u001b[39m \u001b[43mrows\u001b[49m\u001b[43m.\u001b[49m\u001b[43mshape\u001b[49m()\n",
      "\u001b[31mAttributeError\u001b[39m: 'list' object has no attribute 'shape'"
     ]
    }
   ],
   "source": [
    "def is_gcd_with_k(i,j):\n",
    "    \n",
    "\n",
    "\n",
    "rows = [[0]*50 for _ in range(50)]\n",
    "for i in range(50):\n",
    "    for j in range(50):\n",
    "        col = i+1\n",
    "        row = j+1\n",
    "        "
   ]
  },
  {
   "cell_type": "code",
   "execution_count": null,
   "id": "0c467f5c",
   "metadata": {},
   "outputs": [],
   "source": [
    "gcd(10, 2)\n",
    "gcd(2, 0)\n",
    "\n",
    "gcd(18, 4)\n",
    "gcd(4, 2)\n",
    "gcd(2, 0)"
   ]
  }
 ],
 "metadata": {
  "kernelspec": {
   "display_name": "Python 3",
   "language": "python",
   "name": "python3"
  },
  "language_info": {
   "codemirror_mode": {
    "name": "ipython",
    "version": 3
   },
   "file_extension": ".py",
   "mimetype": "text/x-python",
   "name": "python",
   "nbconvert_exporter": "python",
   "pygments_lexer": "ipython3",
   "version": "3.11.9"
  }
 },
 "nbformat": 4,
 "nbformat_minor": 5
}
